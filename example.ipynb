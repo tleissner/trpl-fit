{
 "cells": [
  {
   "attachments": {},
   "cell_type": "markdown",
   "metadata": {
    "slideshow": {
     "slide_type": "skip"
    }
   },
   "source": [
    "# LifetimeFit\n",
    "\n",
    "### Author: Till Leissner (till@mci.sdu.dk)\n"
   ]
  },
  {
   "cell_type": "markdown",
   "metadata": {},
   "source": [
    "This script is designed to fit TCSPC data."
   ]
  },
  {
   "cell_type": "code",
   "execution_count": null,
   "metadata": {
    "hide_input": false,
    "slideshow": {
     "slide_type": "skip"
    },
    "tags": [
     "hide_cell_html"
    ]
   },
   "outputs": [],
   "source": [
    "# Import modules\n",
    "import numpy as np\n",
    "import pandas as pd\n",
    "import importlib\n",
    "from plotly.subplots import make_subplots\n",
    "import plotly.graph_objs as go\n",
    "import plotly.express as px\n",
    "import plotly.tools as tls\n",
    "from pandas.plotting import table \n",
    "import matplotlib.pyplot as plt\n",
    "from lmfit import Parameters, Parameter\n",
    "\n",
    "import _ltfit_ as lt\n",
    "\n",
    "# Set general options for plots and tables\n",
    "pd.set_option('max_colwidth',50)\n",
    "pd.options.display.float_format = '{:.3f}'.format\n"
   ]
  },
  {
   "cell_type": "markdown",
   "metadata": {
    "slideshow": {
     "slide_type": "skip"
    }
   },
   "source": [
    "## Load your data\n",
    "\n",
    "You need to define the path to the folder that contains your data. \n",
    "Currently only \"dac\" files from Hamamatsu HPD-TA are accepted."
   ]
  },
  {
   "cell_type": "code",
   "execution_count": null,
   "metadata": {
    "hide_input": false,
    "slideshow": {
     "slide_type": "skip"
    }
   },
   "outputs": [],
   "source": [
    "#%%capture\n",
    "### Import data using dac files\n",
    "datapath = './data' #\n",
    "datafilter = '16*.dac' # You can filter your data files\n",
    "irffile = \"irf/1ns.dac\" # File containing irf data"
   ]
  },
  {
   "cell_type": "code",
   "execution_count": null,
   "metadata": {},
   "outputs": [],
   "source": [
    "# Importing data and return a dict with TCSPC trace, decay curve (integrated), spectrum (integrated)\n",
    "data = lt._load_datasets_(datapath, datafilter)\n",
    "data = lt._init_datasets_(data)"
   ]
  },
  {
   "cell_type": "code",
   "execution_count": null,
   "metadata": {
    "scrolled": true
   },
   "outputs": [],
   "source": [
    "# Plot the data\n",
    "fig = lt._plot_datasets_(data)\n"
   ]
  },
  {
   "cell_type": "code",
   "execution_count": null,
   "metadata": {
    "hide_input": false,
    "slideshow": {
     "slide_type": "slide"
    }
   },
   "outputs": [],
   "source": [
    "# Select your data range for fitting\n",
    "# When you want to use idividual start/stop limit for each dataset, you can also define a arrays.\n",
    "\n",
    "importlib.reload(_ltfit_)\n",
    "#Normally the default values work pretty well\n",
    "options = dict()\n",
    "options['tstart_offset'] = 10            # Skip this number of data points right of PL peak (to exclude scattering etc.)\n",
    "options['threshold']     = 10            # Datapoints below this number of count will be skipped in the fit\n",
    "\n",
    "#Please adjust these values\n",
    "options['lstart']        = [730]        # Lower wavelength limit (in nm), set [0] for full range, [780,890,...] for individual limits for each sample\n",
    "options['lstop']         = [770]        # Upper wavelength limit (in nm), set [0] for full range, [780,890,...] for individual limits for each sample\n",
    "options['tstart']        = [0]          # Start time for fits (in ns), set [0] for automatic detection, [1,2,...] for individual limits for each sample\n",
    "options['tstop']         = [180]          # Upper time limit (in ns), set [0] for full range, [5,7,...] for individual limits for each sample\n",
    "options['exponents']     = 2            # Number of exponents used to fit datasets\n",
    "options['convolution']   = False         # Do deconvolution with IRF: True/False\n",
    "\n",
    "### Check and update options - do not change\n",
    "data = lt._check_options_(data, options) # ensures correct format of input\n",
    "data = lt._init_fitdata_(data)\n",
    "data = lt._init_parameters_(data)\n",
    "if options['convolution']:\n",
    "    data=lt._fit_irf_(data,irffile)\n",
    "    "
   ]
  },
  {
   "cell_type": "code",
   "execution_count": null,
   "metadata": {},
   "outputs": [],
   "source": [
    "### You can overwrite parameters for each sample ('key') if needed here:\n",
    "## Examples:\n",
    "\n",
    "for key in data:\n",
    "#    params = Parameters()   \n",
    "    #           (Name,  Value,  Vary,   Min,  Max,  Expr)\n",
    "#    params.add_many(\n",
    "#                ('a1',   4000,  True,  1e2, 1e5,  None), \n",
    "#                ('tau1',    0.03,  True,  0.01, 0.1,  None),\n",
    "#                ('a2',   800,  True,  1e2, 1e5,  None), \n",
    "#                ('tau2',    0.166,  True,  0.1, 1,  None),\n",
    "#                ('x0',    0.1,  True,  -0.15, 0.15,  None), # will be fixed later to maximum position + toffset\n",
    "#                ('y0',   4,  True,   0  , 50,  None), # will be fixed later to y_offset of tail\n",
    "#                ('tau', 0, False, 0, 1000, 'a1/(a1+a2)*tau1+a2/(a1+a2)*tau2')\n",
    "#                )\n",
    "#    data[key]['init_params'] = params\n",
    "\n",
    "    data[key]['init_params']['x0'] = Parameter(name='x0', value=0, vary=False, min=-100, max=100)\n",
    "    #data[key]['init_params']['y0'] = Parameter(name='y0', vary=True, value=0,min=1000, max=5000)\n",
    "    #data[key]['init_params']['tau1'] = Parameter(name='tau1', value=1, max=40)\n",
    "    #data[key]['init_params']['tau2'] = Parameter(name='tau2', value=20, max=100)\n",
    "    #data[key]['init_params']['a2'] = Parameter(name='a2', value=1000, max=10000)\n",
    "    #data[key]['init_params']['a3'] = Parameter(name='a3', value=1000, max=10000)"
   ]
  },
  {
   "cell_type": "markdown",
   "metadata": {
    "hide_input": false,
    "slideshow": {
     "slide_type": "skip"
    }
   },
   "source": [
    "## Perform fit"
   ]
  },
  {
   "cell_type": "code",
   "execution_count": null,
   "metadata": {},
   "outputs": [],
   "source": [
    "importlib.reload(_ltfit_)\n",
    "data = lt._do_fitting_(data, show=False)"
   ]
  },
  {
   "cell_type": "code",
   "execution_count": null,
   "metadata": {},
   "outputs": [],
   "source": [
    "# Visualize fits and data\n",
    "importlib.reload(_ltfit_)\n",
    "fig = lt._show_fitresults_(data)\n",
    "fig.update_yaxes(range=[0, 6], row=1, col=1)\n",
    "#fig.update_yaxes(type=\"linear\", row=1,col=1)\n",
    "fig.update_layout(title=('Wavelength:' +str(options['lstart'][0])+' - '+str(options['lstop'][0])+' nm'))\n",
    "fig"
   ]
  },
  {
   "cell_type": "code",
   "execution_count": null,
   "metadata": {
    "slideshow": {
     "slide_type": "skip"
    },
    "tags": [
     "hide_input"
    ]
   },
   "outputs": [],
   "source": [
    "dfexp = lt._to_df_(data)\n",
    "dfexp"
   ]
  },
  {
   "cell_type": "code",
   "execution_count": null,
   "metadata": {
    "slideshow": {
     "slide_type": "skip"
    },
    "tags": [
     "hide_cell_html"
    ]
   },
   "outputs": [],
   "source": [
    "import os\n",
    "import datetime\n",
    "path_out = os.path.join(datapath)\n",
    "prefix=('Wavelength_' +str(options['lstart'][0])+'-'+str(options['lstop'][0])+'nm')\n",
    "fig.write_html(os.path.join(path_out,prefix+'_TRPL_results_n='+str(options['exponents'])+'_conv='+str(options['convolution'])+'_figure.html'))\n",
    "dfexp.to_html(os.path.join(path_out,prefix+'_TRPL_results_n='+str(options['exponents'])+'_conv='+str(options['convolution'])+'.html'))\n",
    "#!jupyter nbconvert --to html_embed *.ipynb "
   ]
  },
  {
   "cell_type": "code",
   "execution_count": null,
   "metadata": {},
   "outputs": [],
   "source": [
    "import importlib\n",
    "fig2 = lt._plot_spectra_(data)\n"
   ]
  },
  {
   "cell_type": "code",
   "execution_count": null,
   "metadata": {},
   "outputs": [],
   "source": [
    "fig2 = lt._plot_decaycurves_(data)"
   ]
  },
  {
   "cell_type": "code",
   "execution_count": null,
   "metadata": {},
   "outputs": [],
   "source": [
    "#Export data and fit results as txt files (creates a file for each dataset)\n",
    "for key in data:\n",
    "    df = pd.DataFrame({'data': data[key]['fitdata'], 'fit':data[key]['fitresult'].best_fit})\n",
    "    df.to_csv(os.path.join(path_out,prefix+key+'.fit'),index=True, header=True, decimal=',', sep=' ', float_format='%.3f')"
   ]
  },
  {
   "cell_type": "code",
   "execution_count": null,
   "metadata": {},
   "outputs": [],
   "source": []
  }
 ],
 "metadata": {
  "celltoolbar": "Tags",
  "kernelspec": {
   "display_name": "base",
   "language": "python",
   "name": "python3"
  },
  "language_info": {
   "codemirror_mode": {
    "name": "ipython",
    "version": 3
   },
   "file_extension": ".py",
   "mimetype": "text/x-python",
   "name": "python",
   "nbconvert_exporter": "python",
   "pygments_lexer": "ipython3",
   "version": "3.9.13"
  },
  "latex_envs": {
   "LaTeX_envs_menu_present": true,
   "autoclose": false,
   "autocomplete": true,
   "bibliofile": "biblio.bib",
   "cite_by": "apalike",
   "current_citInitial": 1,
   "eqLabelWithNumbers": true,
   "eqNumInitial": 1,
   "hotkeys": {
    "equation": "Ctrl-E",
    "itemize": "Ctrl-I"
   },
   "labels_anchors": false,
   "latex_user_defs": false,
   "report_style_numbering": false,
   "user_envs_cfg": false
  },
  "varInspector": {
   "cols": {
    "lenName": 16,
    "lenType": 16,
    "lenVar": 40
   },
   "kernels_config": {
    "python": {
     "delete_cmd_postfix": "",
     "delete_cmd_prefix": "del ",
     "library": "var_list.py",
     "varRefreshCmd": "print(var_dic_list())"
    },
    "r": {
     "delete_cmd_postfix": ") ",
     "delete_cmd_prefix": "rm(",
     "library": "var_list.r",
     "varRefreshCmd": "cat(var_dic_list()) "
    }
   },
   "types_to_exclude": [
    "module",
    "function",
    "builtin_function_or_method",
    "instance",
    "_Feature"
   ],
   "window_display": false
  },
  "vscode": {
   "interpreter": {
    "hash": "ad2bdc8ecc057115af97d19610ffacc2b4e99fae6737bb82f5d7fb13d2f2c186"
   }
  }
 },
 "nbformat": 4,
 "nbformat_minor": 4
}
